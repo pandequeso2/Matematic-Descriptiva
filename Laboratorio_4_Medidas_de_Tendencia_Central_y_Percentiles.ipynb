{
  "nbformat": 4,
  "nbformat_minor": 0,
  "metadata": {
    "colab": {
      "provenance": [],
      "collapsed_sections": [
        "zAH3inNheoYF",
        "2sRyMcRRhdn4",
        "en8y12lQSwlk",
        "7iYYoumKEuNS"
      ]
    },
    "kernelspec": {
      "name": "python3",
      "display_name": "Python 3"
    },
    "language_info": {
      "name": "python"
    }
  },
  "cells": [
    {
      "cell_type": "markdown",
      "source": [
        "# Medidas de Tendencia Central y Percentiles"
      ],
      "metadata": {
        "id": "xAEkiV4ILRiC"
      }
    },
    {
      "cell_type": "markdown",
      "source": [
        "## Objetivo:"
      ],
      "metadata": {
        "id": "QNj511B_MZcq"
      }
    },
    {
      "cell_type": "markdown",
      "source": [
        "Aplicar las medidas de tendencia central (media, mediana y moda) y medidas de posición no central (percentiles) en el análisis de datos, utilizando Python como herramienta de apoyo."
      ],
      "metadata": {
        "id": "A0OCHa57MiDs"
      }
    },
    {
      "cell_type": "markdown",
      "source": [
        "*Nota: Este laboratorio está diseñado para desarrollar razonamiento estadístico. Evita el uso de herramientas de IA para responder las preguntas a menos que esto sea explícitamente sugerido* 🤖. *En su lugar, enfócate en aplicar los conceptos revisados.*"
      ],
      "metadata": {
        "id": "_eTyyW3nMsa9"
      }
    },
    {
      "cell_type": "markdown",
      "source": [
        "## Actividad 1"
      ],
      "metadata": {
        "id": "zAH3inNheoYF"
      }
    },
    {
      "cell_type": "markdown",
      "source": [
        "Imagina que trabajas como analista de datos en una consultora de orientación vocacional que asesora a estudiantes de enseñanza media sobre qué carrera elegir. Recibes una base de datos con información de carreras técnicas y profesionales de distintas instituciones chilenas de los años 2024 y 2025. Tu misión es analizar los ingresos y empleabilidad de los titulados, y entregar conclusiones claras que ayuden a tomar decisiones.\n",
        "\n",
        "**Utiliza la siguiente base de datos para responder las actividades 1, 2 y 3.**\n",
        "\n",
        "Descarga la base de datos **<a href=\"https://docs.google.com/spreadsheets/d/1JmPTeHd5mzM4V8A2yLz0Jhwt6MDmmaxf/export?format=xlsx\n",
        "\">aquí</a>**."
      ],
      "metadata": {
        "id": "QAovxMozeqZG"
      }
    },
    {
      "cell_type": "markdown",
      "source": [
        "1. Identifica la población y muestra del estudio."
      ],
      "metadata": {
        "id": "KRK7q_aoe7s3"
      }
    },
    {
      "cell_type": "markdown",
      "source": [
        "2. Clasifica las variables presentes en la base de datos."
      ],
      "metadata": {
        "id": "pKhW1r5PhWJj"
      }
    },
    {
      "cell_type": "markdown",
      "source": [
        "3. ¿Cuál es el ingreso promedio de los titulados? ¿Y la mediana? ¿Qué puedes concluir de la diferencia entre ambos?"
      ],
      "metadata": {
        "id": "8tNyw-sClx2E"
      }
    },
    {
      "cell_type": "markdown",
      "source": [
        "4. ¿Cuál es la moda de los ingresos? Interprétala."
      ],
      "metadata": {
        "id": "YOnsI5PxUUmd"
      }
    },
    {
      "cell_type": "markdown",
      "source": [
        "5. Calcula los percentiles 25, 50 y 75 del ingreso de los titulados e interprétalos."
      ],
      "metadata": {
        "id": "xGGch3VyYXw3"
      }
    },
    {
      "cell_type": "markdown",
      "source": [
        "6. Utiliza la función *describe()* de Pandas para validar tus resultados."
      ],
      "metadata": {
        "id": "wqtdL2FeZ8Ia"
      }
    },
    {
      "cell_type": "markdown",
      "source": [
        "7. Considera que tres personas desean estudiar Técnico en enfermería, pero cada una valora cosas distintas:\n",
        "* Sofía busca maximizar su ingreso futuro.\n",
        "* Diego prioriza encontrar trabajo rápidamente.\n",
        "* Camila quiere un equilibrio entre ambas.\n",
        "\n",
        "$\\hspace{1cm}$Considerando la media como medida representativa, ¿qué tipo de institución recomendarías a cada uno y por qué?"
      ],
      "metadata": {
        "id": "9L_sPHOXccC2"
      }
    },
    {
      "cell_type": "markdown",
      "source": [
        "## Actividad 2"
      ],
      "metadata": {
        "id": "2sRyMcRRhdn4"
      }
    },
    {
      "cell_type": "markdown",
      "source": [
        "Un grupo de estudiantes está evaluando si el nivel de acreditación de una institución podría impactar sus resultados laborales. Para responder esta pregunta, realiza el siguiente análisis:\n",
        "\n",
        "**Utiliza la siguiente base de datos para responder las actividades 1, 2 y 3.**\n",
        "\n",
        "Descarga la base de datos **<a href=\"https://docs.google.com/spreadsheets/d/1JmPTeHd5mzM4V8A2yLz0Jhwt6MDmmaxf/export?format=xlsx\n",
        "\">aquí</a>**."
      ],
      "metadata": {
        "id": "0PIUaTCqjgvy"
      }
    },
    {
      "cell_type": "markdown",
      "source": [
        "1. Agrupa los datos por años de acreditación y calcula la media y la mediana del ingreso al 4to año de cada grupo."
      ],
      "metadata": {
        "id": "qjkaN7aSk7Mh"
      }
    },
    {
      "cell_type": "markdown",
      "source": [
        "2. ¿Existe una relación aparente entre la cantidad de años de acreditación y el ingreso promedio? ¿Qué patrón observas?"
      ],
      "metadata": {
        "id": "j6rnKYndn6gd"
      }
    },
    {
      "cell_type": "markdown",
      "source": [
        "3. ¿Se observa una tendencia similar al analizar la empleabilidad al primer año?"
      ],
      "metadata": {
        "id": "mTPVCp0EqpgU"
      }
    },
    {
      "cell_type": "markdown",
      "source": [
        "4. Comparando las variables ingreso y empleabilidad, analiza cómo varían la media y la mediana en cada caso. ¿Qué conclusiones generales puedes extraer sobre la representatividad de estas medidas?"
      ],
      "metadata": {
        "id": "QRxVmKHxroxK"
      }
    },
    {
      "cell_type": "markdown",
      "source": [
        "5. Teniendo en cuenta tu análisis sobre cómo varían los ingresos y la empleabilidad con los años de acreditación, ¿qué consejo le darías a un estudiante que va a elegir una institución basándose únicamente en el nivel de acreditación? Justifica tu recomendación."
      ],
      "metadata": {
        "id": "cWwt8PXeydRi"
      }
    },
    {
      "cell_type": "markdown",
      "source": [
        "## Actividad 3"
      ],
      "metadata": {
        "id": "en8y12lQSwlk"
      }
    },
    {
      "cell_type": "markdown",
      "source": [
        "Imagina que trabajas como analista del Ministerio de Educación. Te han solicitado caracterizar los resultados laborales de los titulados por área de formación utilizando una base de datos con información de carreras técnicas y profesionales de distintas instituciones chilenas de los años 2024 y 2025.\n",
        "\n",
        "**Utiliza la siguiente base de datos para responder las actividades 1, 2 y 3.**\n",
        "\n",
        "Descarga la base de datos **<a href=\"https://docs.google.com/spreadsheets/d/1JmPTeHd5mzM4V8A2yLz0Jhwt6MDmmaxf/export?format=xlsx\n",
        "\">aquí</a>**."
      ],
      "metadata": {
        "id": "akqhEUEwSyjz"
      }
    },
    {
      "cell_type": "markdown",
      "source": [
        "1. ¿Cuál Área se observa con mayor frecuencia entre los titulados?"
      ],
      "metadata": {
        "id": "avMtjuUxyIMs"
      }
    },
    {
      "cell_type": "code",
      "source": [
        "import pandas as pd\n",
        "df_3=pd.read_excel(\"/content/Actividad_1_2_3.xlsx\")\n",
        "df_3.head(2)\n",
        "#Calcular la Moda:\n",
        "calculo_Moda=df_3['Área'].mode()\n",
        "calculo_Moda[0]"
      ],
      "metadata": {
        "colab": {
          "base_uri": "https://localhost:8080/",
          "height": 164
        },
        "id": "b0Wc7tfMv-eM",
        "outputId": "7a916ef5-8f65-4a0d-b1ba-f4518560575a"
      },
      "execution_count": 3,
      "outputs": [
        {
          "output_type": "execute_result",
          "data": {
            "text/plain": [
              "   Código           Tipo de institución  Acreditación institución (años)  \\\n",
              "0     456  Centros de Formación Técnica                                5   \n",
              "1     456  Centros de Formación Técnica                                5   \n",
              "\n",
              "         Área                            Nombre carrera genérica  \\\n",
              "0  Tecnología  Técnico en Electricidad y Electricidad Industrial   \n",
              "1       Salud                              Técnico en Enfermería   \n",
              "\n",
              "  Duración Real (semestres)  Empleabilidad 1er año (%)  \\\n",
              "0                  6.537975                  76.616915   \n",
              "1                  6.280899                  62.500000   \n",
              "\n",
              "   Ingreso al 4° año (pesos)  \n",
              "0                    1150000  \n",
              "1                     750000  "
            ],
            "text/html": [
              "\n",
              "  <div id=\"df-b2376b11-9a5a-426c-acc3-91548cf78a1c\" class=\"colab-df-container\">\n",
              "    <div>\n",
              "<style scoped>\n",
              "    .dataframe tbody tr th:only-of-type {\n",
              "        vertical-align: middle;\n",
              "    }\n",
              "\n",
              "    .dataframe tbody tr th {\n",
              "        vertical-align: top;\n",
              "    }\n",
              "\n",
              "    .dataframe thead th {\n",
              "        text-align: right;\n",
              "    }\n",
              "</style>\n",
              "<table border=\"1\" class=\"dataframe\">\n",
              "  <thead>\n",
              "    <tr style=\"text-align: right;\">\n",
              "      <th></th>\n",
              "      <th>Código</th>\n",
              "      <th>Tipo de institución</th>\n",
              "      <th>Acreditación institución (años)</th>\n",
              "      <th>Área</th>\n",
              "      <th>Nombre carrera genérica</th>\n",
              "      <th>Duración Real (semestres)</th>\n",
              "      <th>Empleabilidad 1er año (%)</th>\n",
              "      <th>Ingreso al 4° año (pesos)</th>\n",
              "    </tr>\n",
              "  </thead>\n",
              "  <tbody>\n",
              "    <tr>\n",
              "      <th>0</th>\n",
              "      <td>456</td>\n",
              "      <td>Centros de Formación Técnica</td>\n",
              "      <td>5</td>\n",
              "      <td>Tecnología</td>\n",
              "      <td>Técnico en Electricidad y Electricidad Industrial</td>\n",
              "      <td>6.537975</td>\n",
              "      <td>76.616915</td>\n",
              "      <td>1150000</td>\n",
              "    </tr>\n",
              "    <tr>\n",
              "      <th>1</th>\n",
              "      <td>456</td>\n",
              "      <td>Centros de Formación Técnica</td>\n",
              "      <td>5</td>\n",
              "      <td>Salud</td>\n",
              "      <td>Técnico en Enfermería</td>\n",
              "      <td>6.280899</td>\n",
              "      <td>62.500000</td>\n",
              "      <td>750000</td>\n",
              "    </tr>\n",
              "  </tbody>\n",
              "</table>\n",
              "</div>\n",
              "    <div class=\"colab-df-buttons\">\n",
              "\n",
              "  <div class=\"colab-df-container\">\n",
              "    <button class=\"colab-df-convert\" onclick=\"convertToInteractive('df-b2376b11-9a5a-426c-acc3-91548cf78a1c')\"\n",
              "            title=\"Convert this dataframe to an interactive table.\"\n",
              "            style=\"display:none;\">\n",
              "\n",
              "  <svg xmlns=\"http://www.w3.org/2000/svg\" height=\"24px\" viewBox=\"0 -960 960 960\">\n",
              "    <path d=\"M120-120v-720h720v720H120Zm60-500h600v-160H180v160Zm220 220h160v-160H400v160Zm0 220h160v-160H400v160ZM180-400h160v-160H180v160Zm440 0h160v-160H620v160ZM180-180h160v-160H180v160Zm440 0h160v-160H620v160Z\"/>\n",
              "  </svg>\n",
              "    </button>\n",
              "\n",
              "  <style>\n",
              "    .colab-df-container {\n",
              "      display:flex;\n",
              "      gap: 12px;\n",
              "    }\n",
              "\n",
              "    .colab-df-convert {\n",
              "      background-color: #E8F0FE;\n",
              "      border: none;\n",
              "      border-radius: 50%;\n",
              "      cursor: pointer;\n",
              "      display: none;\n",
              "      fill: #1967D2;\n",
              "      height: 32px;\n",
              "      padding: 0 0 0 0;\n",
              "      width: 32px;\n",
              "    }\n",
              "\n",
              "    .colab-df-convert:hover {\n",
              "      background-color: #E2EBFA;\n",
              "      box-shadow: 0px 1px 2px rgba(60, 64, 67, 0.3), 0px 1px 3px 1px rgba(60, 64, 67, 0.15);\n",
              "      fill: #174EA6;\n",
              "    }\n",
              "\n",
              "    .colab-df-buttons div {\n",
              "      margin-bottom: 4px;\n",
              "    }\n",
              "\n",
              "    [theme=dark] .colab-df-convert {\n",
              "      background-color: #3B4455;\n",
              "      fill: #D2E3FC;\n",
              "    }\n",
              "\n",
              "    [theme=dark] .colab-df-convert:hover {\n",
              "      background-color: #434B5C;\n",
              "      box-shadow: 0px 1px 3px 1px rgba(0, 0, 0, 0.15);\n",
              "      filter: drop-shadow(0px 1px 2px rgba(0, 0, 0, 0.3));\n",
              "      fill: #FFFFFF;\n",
              "    }\n",
              "  </style>\n",
              "\n",
              "    <script>\n",
              "      const buttonEl =\n",
              "        document.querySelector('#df-b2376b11-9a5a-426c-acc3-91548cf78a1c button.colab-df-convert');\n",
              "      buttonEl.style.display =\n",
              "        google.colab.kernel.accessAllowed ? 'block' : 'none';\n",
              "\n",
              "      async function convertToInteractive(key) {\n",
              "        const element = document.querySelector('#df-b2376b11-9a5a-426c-acc3-91548cf78a1c');\n",
              "        const dataTable =\n",
              "          await google.colab.kernel.invokeFunction('convertToInteractive',\n",
              "                                                    [key], {});\n",
              "        if (!dataTable) return;\n",
              "\n",
              "        const docLinkHtml = 'Like what you see? Visit the ' +\n",
              "          '<a target=\"_blank\" href=https://colab.research.google.com/notebooks/data_table.ipynb>data table notebook</a>'\n",
              "          + ' to learn more about interactive tables.';\n",
              "        element.innerHTML = '';\n",
              "        dataTable['output_type'] = 'display_data';\n",
              "        await google.colab.output.renderOutput(dataTable, element);\n",
              "        const docLink = document.createElement('div');\n",
              "        docLink.innerHTML = docLinkHtml;\n",
              "        element.appendChild(docLink);\n",
              "      }\n",
              "    </script>\n",
              "  </div>\n",
              "\n",
              "\n",
              "    <div id=\"df-99d96f32-c884-4f92-b2e7-bb815be95f9c\">\n",
              "      <button class=\"colab-df-quickchart\" onclick=\"quickchart('df-99d96f32-c884-4f92-b2e7-bb815be95f9c')\"\n",
              "                title=\"Suggest charts\"\n",
              "                style=\"display:none;\">\n",
              "\n",
              "<svg xmlns=\"http://www.w3.org/2000/svg\" height=\"24px\"viewBox=\"0 0 24 24\"\n",
              "     width=\"24px\">\n",
              "    <g>\n",
              "        <path d=\"M19 3H5c-1.1 0-2 .9-2 2v14c0 1.1.9 2 2 2h14c1.1 0 2-.9 2-2V5c0-1.1-.9-2-2-2zM9 17H7v-7h2v7zm4 0h-2V7h2v10zm4 0h-2v-4h2v4z\"/>\n",
              "    </g>\n",
              "</svg>\n",
              "      </button>\n",
              "\n",
              "<style>\n",
              "  .colab-df-quickchart {\n",
              "      --bg-color: #E8F0FE;\n",
              "      --fill-color: #1967D2;\n",
              "      --hover-bg-color: #E2EBFA;\n",
              "      --hover-fill-color: #174EA6;\n",
              "      --disabled-fill-color: #AAA;\n",
              "      --disabled-bg-color: #DDD;\n",
              "  }\n",
              "\n",
              "  [theme=dark] .colab-df-quickchart {\n",
              "      --bg-color: #3B4455;\n",
              "      --fill-color: #D2E3FC;\n",
              "      --hover-bg-color: #434B5C;\n",
              "      --hover-fill-color: #FFFFFF;\n",
              "      --disabled-bg-color: #3B4455;\n",
              "      --disabled-fill-color: #666;\n",
              "  }\n",
              "\n",
              "  .colab-df-quickchart {\n",
              "    background-color: var(--bg-color);\n",
              "    border: none;\n",
              "    border-radius: 50%;\n",
              "    cursor: pointer;\n",
              "    display: none;\n",
              "    fill: var(--fill-color);\n",
              "    height: 32px;\n",
              "    padding: 0;\n",
              "    width: 32px;\n",
              "  }\n",
              "\n",
              "  .colab-df-quickchart:hover {\n",
              "    background-color: var(--hover-bg-color);\n",
              "    box-shadow: 0 1px 2px rgba(60, 64, 67, 0.3), 0 1px 3px 1px rgba(60, 64, 67, 0.15);\n",
              "    fill: var(--button-hover-fill-color);\n",
              "  }\n",
              "\n",
              "  .colab-df-quickchart-complete:disabled,\n",
              "  .colab-df-quickchart-complete:disabled:hover {\n",
              "    background-color: var(--disabled-bg-color);\n",
              "    fill: var(--disabled-fill-color);\n",
              "    box-shadow: none;\n",
              "  }\n",
              "\n",
              "  .colab-df-spinner {\n",
              "    border: 2px solid var(--fill-color);\n",
              "    border-color: transparent;\n",
              "    border-bottom-color: var(--fill-color);\n",
              "    animation:\n",
              "      spin 1s steps(1) infinite;\n",
              "  }\n",
              "\n",
              "  @keyframes spin {\n",
              "    0% {\n",
              "      border-color: transparent;\n",
              "      border-bottom-color: var(--fill-color);\n",
              "      border-left-color: var(--fill-color);\n",
              "    }\n",
              "    20% {\n",
              "      border-color: transparent;\n",
              "      border-left-color: var(--fill-color);\n",
              "      border-top-color: var(--fill-color);\n",
              "    }\n",
              "    30% {\n",
              "      border-color: transparent;\n",
              "      border-left-color: var(--fill-color);\n",
              "      border-top-color: var(--fill-color);\n",
              "      border-right-color: var(--fill-color);\n",
              "    }\n",
              "    40% {\n",
              "      border-color: transparent;\n",
              "      border-right-color: var(--fill-color);\n",
              "      border-top-color: var(--fill-color);\n",
              "    }\n",
              "    60% {\n",
              "      border-color: transparent;\n",
              "      border-right-color: var(--fill-color);\n",
              "    }\n",
              "    80% {\n",
              "      border-color: transparent;\n",
              "      border-right-color: var(--fill-color);\n",
              "      border-bottom-color: var(--fill-color);\n",
              "    }\n",
              "    90% {\n",
              "      border-color: transparent;\n",
              "      border-bottom-color: var(--fill-color);\n",
              "    }\n",
              "  }\n",
              "</style>\n",
              "\n",
              "      <script>\n",
              "        async function quickchart(key) {\n",
              "          const quickchartButtonEl =\n",
              "            document.querySelector('#' + key + ' button');\n",
              "          quickchartButtonEl.disabled = true;  // To prevent multiple clicks.\n",
              "          quickchartButtonEl.classList.add('colab-df-spinner');\n",
              "          try {\n",
              "            const charts = await google.colab.kernel.invokeFunction(\n",
              "                'suggestCharts', [key], {});\n",
              "          } catch (error) {\n",
              "            console.error('Error during call to suggestCharts:', error);\n",
              "          }\n",
              "          quickchartButtonEl.classList.remove('colab-df-spinner');\n",
              "          quickchartButtonEl.classList.add('colab-df-quickchart-complete');\n",
              "        }\n",
              "        (() => {\n",
              "          let quickchartButtonEl =\n",
              "            document.querySelector('#df-99d96f32-c884-4f92-b2e7-bb815be95f9c button');\n",
              "          quickchartButtonEl.style.display =\n",
              "            google.colab.kernel.accessAllowed ? 'block' : 'none';\n",
              "        })();\n",
              "      </script>\n",
              "    </div>\n",
              "\n",
              "    </div>\n",
              "  </div>\n"
            ],
            "application/vnd.google.colaboratory.intrinsic+json": {
              "type": "dataframe",
              "variable_name": "df_3",
              "summary": "{\n  \"name\": \"df_3\",\n  \"rows\": 1163,\n  \"fields\": [\n    {\n      \"column\": \"C\\u00f3digo\",\n      \"properties\": {\n        \"dtype\": \"number\",\n        \"std\": 103,\n        \"min\": 1,\n        \"max\": 701,\n        \"num_unique_values\": 91,\n        \"samples\": [\n          89,\n          120,\n          91\n        ],\n        \"semantic_type\": \"\",\n        \"description\": \"\"\n      }\n    },\n    {\n      \"column\": \"Tipo de instituci\\u00f3n\",\n      \"properties\": {\n        \"dtype\": \"category\",\n        \"num_unique_values\": 3,\n        \"samples\": [\n          \"Centros de Formaci\\u00f3n T\\u00e9cnica\",\n          \"Insitutos Profesionales\",\n          \"Universidades\"\n        ],\n        \"semantic_type\": \"\",\n        \"description\": \"\"\n      }\n    },\n    {\n      \"column\": \"Acreditaci\\u00f3n instituci\\u00f3n (a\\u00f1os)\",\n      \"properties\": {\n        \"dtype\": \"number\",\n        \"std\": 1,\n        \"min\": 0,\n        \"max\": 7,\n        \"num_unique_values\": 6,\n        \"samples\": [\n          5,\n          3,\n          4\n        ],\n        \"semantic_type\": \"\",\n        \"description\": \"\"\n      }\n    },\n    {\n      \"column\": \"\\u00c1rea\",\n      \"properties\": {\n        \"dtype\": \"category\",\n        \"num_unique_values\": 10,\n        \"samples\": [\n          \"Derecho\",\n          \"Salud\",\n          \"Administraci\\u00f3n y Comercio\"\n        ],\n        \"semantic_type\": \"\",\n        \"description\": \"\"\n      }\n    },\n    {\n      \"column\": \"Nombre carrera gen\\u00e9rica\",\n      \"properties\": {\n        \"dtype\": \"category\",\n        \"num_unique_values\": 158,\n        \"samples\": [\n          \"Ingenier\\u00eda Civil Metal\\u00fargica\",\n          \"Construcci\\u00f3n Civil\",\n          \"Pedagog\\u00eda en Historia, Geograf\\u00eda y Ciencias Sociales\"\n        ],\n        \"semantic_type\": \"\",\n        \"description\": \"\"\n      }\n    },\n    {\n      \"column\": \"Duraci\\u00f3n Real (semestres)\",\n      \"properties\": {\n        \"dtype\": \"string\",\n        \"num_unique_values\": 987,\n        \"samples\": [\n          11.9016393442623,\n          6.140350877192984,\n          13.9384615384615\n        ],\n        \"semantic_type\": \"\",\n        \"description\": \"\"\n      }\n    },\n    {\n      \"column\": \"Empleabilidad 1er a\\u00f1o (%)\",\n      \"properties\": {\n        \"dtype\": \"number\",\n        \"std\": 18.377552220229322,\n        \"min\": 10.506566604127581,\n        \"max\": 100.0,\n        \"num_unique_values\": 1048,\n        \"samples\": [\n          85.47008547008546,\n          88.84012539184954,\n          58.2089552238806\n        ],\n        \"semantic_type\": \"\",\n        \"description\": \"\"\n      }\n    },\n    {\n      \"column\": \"Ingreso al 4\\u00b0 a\\u00f1o (pesos)\",\n      \"properties\": {\n        \"dtype\": \"number\",\n        \"std\": 506349,\n        \"min\": 550000,\n        \"max\": 3000000,\n        \"num_unique_values\": 22,\n        \"samples\": [\n          1150000,\n          1550000,\n          1250000\n        ],\n        \"semantic_type\": \"\",\n        \"description\": \"\"\n      }\n    }\n  ]\n}"
            }
          },
          "metadata": {},
          "execution_count": 3
        }
      ]
    },
    {
      "cell_type": "markdown",
      "source": [
        "El área que se observa con mayor frecuencia entre los titulados es tecnologia"
      ],
      "metadata": {
        "id": "QiWUIWUsxIHl"
      }
    },
    {
      "cell_type": "markdown",
      "source": [
        "2. ¿Entre qué sueldos se encuentran los egresados del 10% más alto al 4to año de titulación?"
      ],
      "metadata": {
        "id": "lEYcY6rqv4Ml"
      }
    },
    {
      "cell_type": "code",
      "source": [
        "#Valor minimo del 10% MAS ALTO\n",
        "p_90=df_3['Ingreso al 4° año (pesos)'].quantile(0.9)\n",
        "\n",
        "#Valor maximo del 10% MAS ALTO\n",
        "maximo=df_3['Ingreso al 4° año (pesos)'].max()\n",
        "\n",
        "print(f\"Percentil 90 {p_90}\\n Maximo: {maximo}\")"
      ],
      "metadata": {
        "colab": {
          "base_uri": "https://localhost:8080/"
        },
        "id": "P2dEFPzVwgeq",
        "outputId": "ef296100-f7aa-4273-f3c4-14815169026a"
      },
      "execution_count": 9,
      "outputs": [
        {
          "output_type": "stream",
          "name": "stdout",
          "text": [
            "Percentil 90 1950000.0\n",
            " Maximo: 3000000\n"
          ]
        }
      ]
    },
    {
      "cell_type": "markdown",
      "source": [
        "Entre los sueldos $1.950.000 y $3.000.000 al 4to año de titulación"
      ],
      "metadata": {
        "id": "iTYUiw0Uz5FT"
      }
    },
    {
      "cell_type": "markdown",
      "source": [
        "3. ¿Entre qué sueldos se encuentran los egresados del 17% más bajo al 4to año de titulación?"
      ],
      "metadata": {
        "id": "uB0TdjuExUI2"
      }
    },
    {
      "cell_type": "code",
      "source": [
        "#Calcular ingresos del percentil 17\n",
        "p_17=df_3['Ingreso al 4° año (pesos)'].quantile(0.17)\n",
        "minimo=df_3['Ingreso al 4° año (pesos)'].min()\n",
        "\n",
        "print(f\"Percentil 17 {p_17}\\n Minimo: {minimo}\")"
      ],
      "metadata": {
        "colab": {
          "base_uri": "https://localhost:8080/"
        },
        "id": "f_RgmVW50HMj",
        "outputId": "cfd38a93-9c40-4f6f-ee85-31d3c5da343b"
      },
      "execution_count": 12,
      "outputs": [
        {
          "output_type": "stream",
          "name": "stdout",
          "text": [
            "Percentil 17 950000.0\n",
            " Minimo: 550000\n"
          ]
        }
      ]
    },
    {
      "cell_type": "markdown",
      "source": [
        "Entre los sueldos 950.000 y 550.000"
      ],
      "metadata": {
        "id": "MserO2tn0O5D"
      }
    },
    {
      "cell_type": "markdown",
      "source": [
        "4. Agrupa los datos por Área y para cada grupo calcula las siguientes medidas del Ingreso al 4° año:\n",
        "* Media\n",
        "* Mediana\n",
        "* Percentil 25\n",
        "* Percentil 75\n",
        "\n",
        "$\\hspace{1cm}$Luego, construye un DataFrame que reúna estas cuatro columnas."
      ],
      "metadata": {
        "id": "JAToWUPTTjDR"
      }
    },
    {
      "cell_type": "code",
      "source": [
        "#Agrupaciones por area\n",
        "datos_area=df_3.groupby(\"Área\")[\"Ingreso al 4° año (pesos)\"]\n",
        "\n",
        "#calculamos las medias solicitadas\n",
        "media_area=datos_area.mean()\n",
        "mediana_area=datos_area.median()\n",
        "p_25_area=datos_area.quantile(0.25)\n",
        "p_75_area=datos_area.quantile(0.75)\n",
        "\n",
        "#DataFRame:\n",
        "tabla_3=pd.DataFrame({\n",
        "    \"Media\":media_area,\n",
        "    \"Mediana\":mediana_area,\n",
        "    \"Percentil 25\":p_25_area,\n",
        "    \"Percentil 75\":p_75_area\n",
        "})\n",
        "\n",
        "tabla_3_red=round(tabla_3, 0)\n",
        "display(tabla_3_red)"
      ],
      "metadata": {
        "colab": {
          "base_uri": "https://localhost:8080/",
          "height": 394
        },
        "id": "RWS8qxOd0kb7",
        "outputId": "c16c3390-e325-46fe-8b45-559f3468e5d2"
      },
      "execution_count": 21,
      "outputs": [
        {
          "output_type": "display_data",
          "data": {
            "text/plain": [
              "                               Media    Mediana  Percentil 25  Percentil 75\n",
              "Área                                                                       \n",
              "Administración y Comercio  1221930.0  1150000.0      950000.0     1450000.0\n",
              "Agropecuaria               1176471.0  1250000.0      975000.0     1325000.0\n",
              "Arte y Arquitectura        1079825.0  1050000.0      850000.0     1350000.0\n",
              "Ciencias Básicas           1575000.0  1400000.0     1125000.0     2025000.0\n",
              "Ciencias Sociales          1155042.0  1150000.0     1050000.0     1250000.0\n",
              "Derecho                    1561111.0  1550000.0     1400000.0     1800000.0\n",
              "Educación                   963990.0   950000.0      950000.0     1050000.0\n",
              "Humanidades                 870000.0   850000.0      850000.0      850000.0\n",
              "Salud                      1454510.0  1350000.0      950000.0     1750000.0\n",
              "Tecnología                 1552448.0  1450000.0     1050000.0     1925000.0"
            ],
            "text/html": [
              "\n",
              "  <div id=\"df-86197991-6896-4ba9-97ae-348dc0ed4102\" class=\"colab-df-container\">\n",
              "    <div>\n",
              "<style scoped>\n",
              "    .dataframe tbody tr th:only-of-type {\n",
              "        vertical-align: middle;\n",
              "    }\n",
              "\n",
              "    .dataframe tbody tr th {\n",
              "        vertical-align: top;\n",
              "    }\n",
              "\n",
              "    .dataframe thead th {\n",
              "        text-align: right;\n",
              "    }\n",
              "</style>\n",
              "<table border=\"1\" class=\"dataframe\">\n",
              "  <thead>\n",
              "    <tr style=\"text-align: right;\">\n",
              "      <th></th>\n",
              "      <th>Media</th>\n",
              "      <th>Mediana</th>\n",
              "      <th>Percentil 25</th>\n",
              "      <th>Percentil 75</th>\n",
              "    </tr>\n",
              "    <tr>\n",
              "      <th>Área</th>\n",
              "      <th></th>\n",
              "      <th></th>\n",
              "      <th></th>\n",
              "      <th></th>\n",
              "    </tr>\n",
              "  </thead>\n",
              "  <tbody>\n",
              "    <tr>\n",
              "      <th>Administración y Comercio</th>\n",
              "      <td>1221930.0</td>\n",
              "      <td>1150000.0</td>\n",
              "      <td>950000.0</td>\n",
              "      <td>1450000.0</td>\n",
              "    </tr>\n",
              "    <tr>\n",
              "      <th>Agropecuaria</th>\n",
              "      <td>1176471.0</td>\n",
              "      <td>1250000.0</td>\n",
              "      <td>975000.0</td>\n",
              "      <td>1325000.0</td>\n",
              "    </tr>\n",
              "    <tr>\n",
              "      <th>Arte y Arquitectura</th>\n",
              "      <td>1079825.0</td>\n",
              "      <td>1050000.0</td>\n",
              "      <td>850000.0</td>\n",
              "      <td>1350000.0</td>\n",
              "    </tr>\n",
              "    <tr>\n",
              "      <th>Ciencias Básicas</th>\n",
              "      <td>1575000.0</td>\n",
              "      <td>1400000.0</td>\n",
              "      <td>1125000.0</td>\n",
              "      <td>2025000.0</td>\n",
              "    </tr>\n",
              "    <tr>\n",
              "      <th>Ciencias Sociales</th>\n",
              "      <td>1155042.0</td>\n",
              "      <td>1150000.0</td>\n",
              "      <td>1050000.0</td>\n",
              "      <td>1250000.0</td>\n",
              "    </tr>\n",
              "    <tr>\n",
              "      <th>Derecho</th>\n",
              "      <td>1561111.0</td>\n",
              "      <td>1550000.0</td>\n",
              "      <td>1400000.0</td>\n",
              "      <td>1800000.0</td>\n",
              "    </tr>\n",
              "    <tr>\n",
              "      <th>Educación</th>\n",
              "      <td>963990.0</td>\n",
              "      <td>950000.0</td>\n",
              "      <td>950000.0</td>\n",
              "      <td>1050000.0</td>\n",
              "    </tr>\n",
              "    <tr>\n",
              "      <th>Humanidades</th>\n",
              "      <td>870000.0</td>\n",
              "      <td>850000.0</td>\n",
              "      <td>850000.0</td>\n",
              "      <td>850000.0</td>\n",
              "    </tr>\n",
              "    <tr>\n",
              "      <th>Salud</th>\n",
              "      <td>1454510.0</td>\n",
              "      <td>1350000.0</td>\n",
              "      <td>950000.0</td>\n",
              "      <td>1750000.0</td>\n",
              "    </tr>\n",
              "    <tr>\n",
              "      <th>Tecnología</th>\n",
              "      <td>1552448.0</td>\n",
              "      <td>1450000.0</td>\n",
              "      <td>1050000.0</td>\n",
              "      <td>1925000.0</td>\n",
              "    </tr>\n",
              "  </tbody>\n",
              "</table>\n",
              "</div>\n",
              "    <div class=\"colab-df-buttons\">\n",
              "\n",
              "  <div class=\"colab-df-container\">\n",
              "    <button class=\"colab-df-convert\" onclick=\"convertToInteractive('df-86197991-6896-4ba9-97ae-348dc0ed4102')\"\n",
              "            title=\"Convert this dataframe to an interactive table.\"\n",
              "            style=\"display:none;\">\n",
              "\n",
              "  <svg xmlns=\"http://www.w3.org/2000/svg\" height=\"24px\" viewBox=\"0 -960 960 960\">\n",
              "    <path d=\"M120-120v-720h720v720H120Zm60-500h600v-160H180v160Zm220 220h160v-160H400v160Zm0 220h160v-160H400v160ZM180-400h160v-160H180v160Zm440 0h160v-160H620v160ZM180-180h160v-160H180v160Zm440 0h160v-160H620v160Z\"/>\n",
              "  </svg>\n",
              "    </button>\n",
              "\n",
              "  <style>\n",
              "    .colab-df-container {\n",
              "      display:flex;\n",
              "      gap: 12px;\n",
              "    }\n",
              "\n",
              "    .colab-df-convert {\n",
              "      background-color: #E8F0FE;\n",
              "      border: none;\n",
              "      border-radius: 50%;\n",
              "      cursor: pointer;\n",
              "      display: none;\n",
              "      fill: #1967D2;\n",
              "      height: 32px;\n",
              "      padding: 0 0 0 0;\n",
              "      width: 32px;\n",
              "    }\n",
              "\n",
              "    .colab-df-convert:hover {\n",
              "      background-color: #E2EBFA;\n",
              "      box-shadow: 0px 1px 2px rgba(60, 64, 67, 0.3), 0px 1px 3px 1px rgba(60, 64, 67, 0.15);\n",
              "      fill: #174EA6;\n",
              "    }\n",
              "\n",
              "    .colab-df-buttons div {\n",
              "      margin-bottom: 4px;\n",
              "    }\n",
              "\n",
              "    [theme=dark] .colab-df-convert {\n",
              "      background-color: #3B4455;\n",
              "      fill: #D2E3FC;\n",
              "    }\n",
              "\n",
              "    [theme=dark] .colab-df-convert:hover {\n",
              "      background-color: #434B5C;\n",
              "      box-shadow: 0px 1px 3px 1px rgba(0, 0, 0, 0.15);\n",
              "      filter: drop-shadow(0px 1px 2px rgba(0, 0, 0, 0.3));\n",
              "      fill: #FFFFFF;\n",
              "    }\n",
              "  </style>\n",
              "\n",
              "    <script>\n",
              "      const buttonEl =\n",
              "        document.querySelector('#df-86197991-6896-4ba9-97ae-348dc0ed4102 button.colab-df-convert');\n",
              "      buttonEl.style.display =\n",
              "        google.colab.kernel.accessAllowed ? 'block' : 'none';\n",
              "\n",
              "      async function convertToInteractive(key) {\n",
              "        const element = document.querySelector('#df-86197991-6896-4ba9-97ae-348dc0ed4102');\n",
              "        const dataTable =\n",
              "          await google.colab.kernel.invokeFunction('convertToInteractive',\n",
              "                                                    [key], {});\n",
              "        if (!dataTable) return;\n",
              "\n",
              "        const docLinkHtml = 'Like what you see? Visit the ' +\n",
              "          '<a target=\"_blank\" href=https://colab.research.google.com/notebooks/data_table.ipynb>data table notebook</a>'\n",
              "          + ' to learn more about interactive tables.';\n",
              "        element.innerHTML = '';\n",
              "        dataTable['output_type'] = 'display_data';\n",
              "        await google.colab.output.renderOutput(dataTable, element);\n",
              "        const docLink = document.createElement('div');\n",
              "        docLink.innerHTML = docLinkHtml;\n",
              "        element.appendChild(docLink);\n",
              "      }\n",
              "    </script>\n",
              "  </div>\n",
              "\n",
              "\n",
              "    <div id=\"df-5a67ea98-2f85-4122-9cfe-10914339b1c3\">\n",
              "      <button class=\"colab-df-quickchart\" onclick=\"quickchart('df-5a67ea98-2f85-4122-9cfe-10914339b1c3')\"\n",
              "                title=\"Suggest charts\"\n",
              "                style=\"display:none;\">\n",
              "\n",
              "<svg xmlns=\"http://www.w3.org/2000/svg\" height=\"24px\"viewBox=\"0 0 24 24\"\n",
              "     width=\"24px\">\n",
              "    <g>\n",
              "        <path d=\"M19 3H5c-1.1 0-2 .9-2 2v14c0 1.1.9 2 2 2h14c1.1 0 2-.9 2-2V5c0-1.1-.9-2-2-2zM9 17H7v-7h2v7zm4 0h-2V7h2v10zm4 0h-2v-4h2v4z\"/>\n",
              "    </g>\n",
              "</svg>\n",
              "      </button>\n",
              "\n",
              "<style>\n",
              "  .colab-df-quickchart {\n",
              "      --bg-color: #E8F0FE;\n",
              "      --fill-color: #1967D2;\n",
              "      --hover-bg-color: #E2EBFA;\n",
              "      --hover-fill-color: #174EA6;\n",
              "      --disabled-fill-color: #AAA;\n",
              "      --disabled-bg-color: #DDD;\n",
              "  }\n",
              "\n",
              "  [theme=dark] .colab-df-quickchart {\n",
              "      --bg-color: #3B4455;\n",
              "      --fill-color: #D2E3FC;\n",
              "      --hover-bg-color: #434B5C;\n",
              "      --hover-fill-color: #FFFFFF;\n",
              "      --disabled-bg-color: #3B4455;\n",
              "      --disabled-fill-color: #666;\n",
              "  }\n",
              "\n",
              "  .colab-df-quickchart {\n",
              "    background-color: var(--bg-color);\n",
              "    border: none;\n",
              "    border-radius: 50%;\n",
              "    cursor: pointer;\n",
              "    display: none;\n",
              "    fill: var(--fill-color);\n",
              "    height: 32px;\n",
              "    padding: 0;\n",
              "    width: 32px;\n",
              "  }\n",
              "\n",
              "  .colab-df-quickchart:hover {\n",
              "    background-color: var(--hover-bg-color);\n",
              "    box-shadow: 0 1px 2px rgba(60, 64, 67, 0.3), 0 1px 3px 1px rgba(60, 64, 67, 0.15);\n",
              "    fill: var(--button-hover-fill-color);\n",
              "  }\n",
              "\n",
              "  .colab-df-quickchart-complete:disabled,\n",
              "  .colab-df-quickchart-complete:disabled:hover {\n",
              "    background-color: var(--disabled-bg-color);\n",
              "    fill: var(--disabled-fill-color);\n",
              "    box-shadow: none;\n",
              "  }\n",
              "\n",
              "  .colab-df-spinner {\n",
              "    border: 2px solid var(--fill-color);\n",
              "    border-color: transparent;\n",
              "    border-bottom-color: var(--fill-color);\n",
              "    animation:\n",
              "      spin 1s steps(1) infinite;\n",
              "  }\n",
              "\n",
              "  @keyframes spin {\n",
              "    0% {\n",
              "      border-color: transparent;\n",
              "      border-bottom-color: var(--fill-color);\n",
              "      border-left-color: var(--fill-color);\n",
              "    }\n",
              "    20% {\n",
              "      border-color: transparent;\n",
              "      border-left-color: var(--fill-color);\n",
              "      border-top-color: var(--fill-color);\n",
              "    }\n",
              "    30% {\n",
              "      border-color: transparent;\n",
              "      border-left-color: var(--fill-color);\n",
              "      border-top-color: var(--fill-color);\n",
              "      border-right-color: var(--fill-color);\n",
              "    }\n",
              "    40% {\n",
              "      border-color: transparent;\n",
              "      border-right-color: var(--fill-color);\n",
              "      border-top-color: var(--fill-color);\n",
              "    }\n",
              "    60% {\n",
              "      border-color: transparent;\n",
              "      border-right-color: var(--fill-color);\n",
              "    }\n",
              "    80% {\n",
              "      border-color: transparent;\n",
              "      border-right-color: var(--fill-color);\n",
              "      border-bottom-color: var(--fill-color);\n",
              "    }\n",
              "    90% {\n",
              "      border-color: transparent;\n",
              "      border-bottom-color: var(--fill-color);\n",
              "    }\n",
              "  }\n",
              "</style>\n",
              "\n",
              "      <script>\n",
              "        async function quickchart(key) {\n",
              "          const quickchartButtonEl =\n",
              "            document.querySelector('#' + key + ' button');\n",
              "          quickchartButtonEl.disabled = true;  // To prevent multiple clicks.\n",
              "          quickchartButtonEl.classList.add('colab-df-spinner');\n",
              "          try {\n",
              "            const charts = await google.colab.kernel.invokeFunction(\n",
              "                'suggestCharts', [key], {});\n",
              "          } catch (error) {\n",
              "            console.error('Error during call to suggestCharts:', error);\n",
              "          }\n",
              "          quickchartButtonEl.classList.remove('colab-df-spinner');\n",
              "          quickchartButtonEl.classList.add('colab-df-quickchart-complete');\n",
              "        }\n",
              "        (() => {\n",
              "          let quickchartButtonEl =\n",
              "            document.querySelector('#df-5a67ea98-2f85-4122-9cfe-10914339b1c3 button');\n",
              "          quickchartButtonEl.style.display =\n",
              "            google.colab.kernel.accessAllowed ? 'block' : 'none';\n",
              "        })();\n",
              "      </script>\n",
              "    </div>\n",
              "\n",
              "  <div id=\"id_36ec87fb-6c64-4187-b6ef-3445e9d44752\">\n",
              "    <style>\n",
              "      .colab-df-generate {\n",
              "        background-color: #E8F0FE;\n",
              "        border: none;\n",
              "        border-radius: 50%;\n",
              "        cursor: pointer;\n",
              "        display: none;\n",
              "        fill: #1967D2;\n",
              "        height: 32px;\n",
              "        padding: 0 0 0 0;\n",
              "        width: 32px;\n",
              "      }\n",
              "\n",
              "      .colab-df-generate:hover {\n",
              "        background-color: #E2EBFA;\n",
              "        box-shadow: 0px 1px 2px rgba(60, 64, 67, 0.3), 0px 1px 3px 1px rgba(60, 64, 67, 0.15);\n",
              "        fill: #174EA6;\n",
              "      }\n",
              "\n",
              "      [theme=dark] .colab-df-generate {\n",
              "        background-color: #3B4455;\n",
              "        fill: #D2E3FC;\n",
              "      }\n",
              "\n",
              "      [theme=dark] .colab-df-generate:hover {\n",
              "        background-color: #434B5C;\n",
              "        box-shadow: 0px 1px 3px 1px rgba(0, 0, 0, 0.15);\n",
              "        filter: drop-shadow(0px 1px 2px rgba(0, 0, 0, 0.3));\n",
              "        fill: #FFFFFF;\n",
              "      }\n",
              "    </style>\n",
              "    <button class=\"colab-df-generate\" onclick=\"generateWithVariable('tabla_3_red')\"\n",
              "            title=\"Generate code using this dataframe.\"\n",
              "            style=\"display:none;\">\n",
              "\n",
              "  <svg xmlns=\"http://www.w3.org/2000/svg\" height=\"24px\"viewBox=\"0 0 24 24\"\n",
              "       width=\"24px\">\n",
              "    <path d=\"M7,19H8.4L18.45,9,17,7.55,7,17.6ZM5,21V16.75L18.45,3.32a2,2,0,0,1,2.83,0l1.4,1.43a1.91,1.91,0,0,1,.58,1.4,1.91,1.91,0,0,1-.58,1.4L9.25,21ZM18.45,9,17,7.55Zm-12,3A5.31,5.31,0,0,0,4.9,8.1,5.31,5.31,0,0,0,1,6.5,5.31,5.31,0,0,0,4.9,4.9,5.31,5.31,0,0,0,6.5,1,5.31,5.31,0,0,0,8.1,4.9,5.31,5.31,0,0,0,12,6.5,5.46,5.46,0,0,0,6.5,12Z\"/>\n",
              "  </svg>\n",
              "    </button>\n",
              "    <script>\n",
              "      (() => {\n",
              "      const buttonEl =\n",
              "        document.querySelector('#id_36ec87fb-6c64-4187-b6ef-3445e9d44752 button.colab-df-generate');\n",
              "      buttonEl.style.display =\n",
              "        google.colab.kernel.accessAllowed ? 'block' : 'none';\n",
              "\n",
              "      buttonEl.onclick = () => {\n",
              "        google.colab.notebook.generateWithVariable('tabla_3_red');\n",
              "      }\n",
              "      })();\n",
              "    </script>\n",
              "  </div>\n",
              "\n",
              "    </div>\n",
              "  </div>\n"
            ],
            "application/vnd.google.colaboratory.intrinsic+json": {
              "type": "dataframe",
              "variable_name": "tabla_3_red",
              "summary": "{\n  \"name\": \"tabla_3_red\",\n  \"rows\": 10,\n  \"fields\": [\n    {\n      \"column\": \"\\u00c1rea\",\n      \"properties\": {\n        \"dtype\": \"string\",\n        \"num_unique_values\": 10,\n        \"samples\": [\n          \"Salud\",\n          \"Agropecuaria\",\n          \"Derecho\"\n        ],\n        \"semantic_type\": \"\",\n        \"description\": \"\"\n      }\n    },\n    {\n      \"column\": \"Media\",\n      \"properties\": {\n        \"dtype\": \"number\",\n        \"std\": 259244.56356929327,\n        \"min\": 870000.0,\n        \"max\": 1575000.0,\n        \"num_unique_values\": 10,\n        \"samples\": [\n          1454510.0,\n          1176471.0,\n          1561111.0\n        ],\n        \"semantic_type\": \"\",\n        \"description\": \"\"\n      }\n    },\n    {\n      \"column\": \"Mediana\",\n      \"properties\": {\n        \"dtype\": \"number\",\n        \"std\": 226139.0919078099,\n        \"min\": 850000.0,\n        \"max\": 1550000.0,\n        \"num_unique_values\": 9,\n        \"samples\": [\n          1350000.0,\n          1250000.0,\n          950000.0\n        ],\n        \"semantic_type\": \"\",\n        \"description\": \"\"\n      }\n    },\n    {\n      \"column\": \"Percentil 25\",\n      \"properties\": {\n        \"dtype\": \"number\",\n        \"std\": 160381.4896495921,\n        \"min\": 850000.0,\n        \"max\": 1400000.0,\n        \"num_unique_values\": 6,\n        \"samples\": [\n          950000.0,\n          975000.0,\n          1400000.0\n        ],\n        \"semantic_type\": \"\",\n        \"description\": \"\"\n      }\n    },\n    {\n      \"column\": \"Percentil 75\",\n      \"properties\": {\n        \"dtype\": \"number\",\n        \"std\": 386840.8372099995,\n        \"min\": 850000.0,\n        \"max\": 2025000.0,\n        \"num_unique_values\": 10,\n        \"samples\": [\n          1750000.0,\n          1325000.0,\n          1800000.0\n        ],\n        \"semantic_type\": \"\",\n        \"description\": \"\"\n      }\n    }\n  ]\n}"
            }
          },
          "metadata": {}
        }
      ]
    },
    {
      "cell_type": "markdown",
      "source": [
        "5. Interpreta las medidas calculadas para el área de Agropecuaria y Tecnología."
      ],
      "metadata": {
        "id": "HsT5VXgLpJEF"
      }
    },
    {
      "cell_type": "markdown",
      "source": [
        "6. Considerando las medidas calculadas, para el análisis del Área de Salud, ¿qué medida considerarías más representativa? Comenta con tus compañeros."
      ],
      "metadata": {
        "id": "J0DE_7Xwsqgo"
      }
    },
    {
      "cell_type": "markdown",
      "source": [
        "7. Compara la media del ingreso al 4to año de titulación, por Área y por Tipo de institución. ¿Qué conclusiones puedes extraer acerca del impacto del tipo de institución en el ingreso según área?\n",
        "\n",
        "*Sugerencia: Puedes crear una tabla bivariada utilizando la función crosstab() de Pandas*."
      ],
      "metadata": {
        "id": "0jTnsFYC1yh0"
      }
    },
    {
      "cell_type": "code",
      "source": [
        "tabla_4=pd.crosstab(\n",
        "    df_3[\"Área\"], df_3['Tipo de institución'],df_3['Ingreso al 4° año (pesos)'],aggfunc=\"mean\",margins=True,margins_name=\"Total\"\n",
        ")\n",
        "round(tabla_4,0)"
      ],
      "metadata": {
        "colab": {
          "base_uri": "https://localhost:8080/",
          "height": 426
        },
        "id": "llp3dsER6tG9",
        "outputId": "24f7550a-f062-4e5c-c2dd-69f3e5d13dd6"
      },
      "execution_count": 22,
      "outputs": [
        {
          "output_type": "execute_result",
          "data": {
            "text/plain": [
              "Tipo de institución        Centros de Formación Técnica  \\\n",
              "Área                                                      \n",
              "Administración y Comercio                      895455.0   \n",
              "Agropecuaria                                   870000.0   \n",
              "Arte y Arquitectura                            750000.0   \n",
              "Ciencias Básicas                              1050000.0   \n",
              "Ciencias Sociales                              683333.0   \n",
              "Derecho                                        850000.0   \n",
              "Educación                                      608333.0   \n",
              "Humanidades                                         NaN   \n",
              "Salud                                          728261.0   \n",
              "Tecnología                                    1084375.0   \n",
              "Total                                          878431.0   \n",
              "\n",
              "Tipo de institución        Insitutos Profesionales  Universidades      Total  \n",
              "Área                                                                          \n",
              "Administración y Comercio                1038525.0      1430682.0  1221930.0  \n",
              "Agropecuaria                              907143.0      1331818.0  1176471.0  \n",
              "Arte y Arquitectura                       854167.0      1259375.0  1079825.0  \n",
              "Ciencias Básicas                         1150000.0      1795455.0  1575000.0  \n",
              "Ciencias Sociales                        1035714.0      1185294.0  1155042.0  \n",
              "Derecho                                   850000.0      1618000.0  1561111.0  \n",
              "Educación                                 673810.0      1028750.0   963990.0  \n",
              "Humanidades                               900000.0       850000.0   870000.0  \n",
              "Salud                                     780435.0      1608612.0  1454510.0  \n",
              "Tecnología                               1110241.0      1854678.0  1552448.0  \n",
              "Total                                     982773.0      1454557.0  1307481.0  "
            ],
            "text/html": [
              "\n",
              "  <div id=\"df-97ea913f-6332-478c-8e8a-42437581d271\" class=\"colab-df-container\">\n",
              "    <div>\n",
              "<style scoped>\n",
              "    .dataframe tbody tr th:only-of-type {\n",
              "        vertical-align: middle;\n",
              "    }\n",
              "\n",
              "    .dataframe tbody tr th {\n",
              "        vertical-align: top;\n",
              "    }\n",
              "\n",
              "    .dataframe thead th {\n",
              "        text-align: right;\n",
              "    }\n",
              "</style>\n",
              "<table border=\"1\" class=\"dataframe\">\n",
              "  <thead>\n",
              "    <tr style=\"text-align: right;\">\n",
              "      <th>Tipo de institución</th>\n",
              "      <th>Centros de Formación Técnica</th>\n",
              "      <th>Insitutos Profesionales</th>\n",
              "      <th>Universidades</th>\n",
              "      <th>Total</th>\n",
              "    </tr>\n",
              "    <tr>\n",
              "      <th>Área</th>\n",
              "      <th></th>\n",
              "      <th></th>\n",
              "      <th></th>\n",
              "      <th></th>\n",
              "    </tr>\n",
              "  </thead>\n",
              "  <tbody>\n",
              "    <tr>\n",
              "      <th>Administración y Comercio</th>\n",
              "      <td>895455.0</td>\n",
              "      <td>1038525.0</td>\n",
              "      <td>1430682.0</td>\n",
              "      <td>1221930.0</td>\n",
              "    </tr>\n",
              "    <tr>\n",
              "      <th>Agropecuaria</th>\n",
              "      <td>870000.0</td>\n",
              "      <td>907143.0</td>\n",
              "      <td>1331818.0</td>\n",
              "      <td>1176471.0</td>\n",
              "    </tr>\n",
              "    <tr>\n",
              "      <th>Arte y Arquitectura</th>\n",
              "      <td>750000.0</td>\n",
              "      <td>854167.0</td>\n",
              "      <td>1259375.0</td>\n",
              "      <td>1079825.0</td>\n",
              "    </tr>\n",
              "    <tr>\n",
              "      <th>Ciencias Básicas</th>\n",
              "      <td>1050000.0</td>\n",
              "      <td>1150000.0</td>\n",
              "      <td>1795455.0</td>\n",
              "      <td>1575000.0</td>\n",
              "    </tr>\n",
              "    <tr>\n",
              "      <th>Ciencias Sociales</th>\n",
              "      <td>683333.0</td>\n",
              "      <td>1035714.0</td>\n",
              "      <td>1185294.0</td>\n",
              "      <td>1155042.0</td>\n",
              "    </tr>\n",
              "    <tr>\n",
              "      <th>Derecho</th>\n",
              "      <td>850000.0</td>\n",
              "      <td>850000.0</td>\n",
              "      <td>1618000.0</td>\n",
              "      <td>1561111.0</td>\n",
              "    </tr>\n",
              "    <tr>\n",
              "      <th>Educación</th>\n",
              "      <td>608333.0</td>\n",
              "      <td>673810.0</td>\n",
              "      <td>1028750.0</td>\n",
              "      <td>963990.0</td>\n",
              "    </tr>\n",
              "    <tr>\n",
              "      <th>Humanidades</th>\n",
              "      <td>NaN</td>\n",
              "      <td>900000.0</td>\n",
              "      <td>850000.0</td>\n",
              "      <td>870000.0</td>\n",
              "    </tr>\n",
              "    <tr>\n",
              "      <th>Salud</th>\n",
              "      <td>728261.0</td>\n",
              "      <td>780435.0</td>\n",
              "      <td>1608612.0</td>\n",
              "      <td>1454510.0</td>\n",
              "    </tr>\n",
              "    <tr>\n",
              "      <th>Tecnología</th>\n",
              "      <td>1084375.0</td>\n",
              "      <td>1110241.0</td>\n",
              "      <td>1854678.0</td>\n",
              "      <td>1552448.0</td>\n",
              "    </tr>\n",
              "    <tr>\n",
              "      <th>Total</th>\n",
              "      <td>878431.0</td>\n",
              "      <td>982773.0</td>\n",
              "      <td>1454557.0</td>\n",
              "      <td>1307481.0</td>\n",
              "    </tr>\n",
              "  </tbody>\n",
              "</table>\n",
              "</div>\n",
              "    <div class=\"colab-df-buttons\">\n",
              "\n",
              "  <div class=\"colab-df-container\">\n",
              "    <button class=\"colab-df-convert\" onclick=\"convertToInteractive('df-97ea913f-6332-478c-8e8a-42437581d271')\"\n",
              "            title=\"Convert this dataframe to an interactive table.\"\n",
              "            style=\"display:none;\">\n",
              "\n",
              "  <svg xmlns=\"http://www.w3.org/2000/svg\" height=\"24px\" viewBox=\"0 -960 960 960\">\n",
              "    <path d=\"M120-120v-720h720v720H120Zm60-500h600v-160H180v160Zm220 220h160v-160H400v160Zm0 220h160v-160H400v160ZM180-400h160v-160H180v160Zm440 0h160v-160H620v160ZM180-180h160v-160H180v160Zm440 0h160v-160H620v160Z\"/>\n",
              "  </svg>\n",
              "    </button>\n",
              "\n",
              "  <style>\n",
              "    .colab-df-container {\n",
              "      display:flex;\n",
              "      gap: 12px;\n",
              "    }\n",
              "\n",
              "    .colab-df-convert {\n",
              "      background-color: #E8F0FE;\n",
              "      border: none;\n",
              "      border-radius: 50%;\n",
              "      cursor: pointer;\n",
              "      display: none;\n",
              "      fill: #1967D2;\n",
              "      height: 32px;\n",
              "      padding: 0 0 0 0;\n",
              "      width: 32px;\n",
              "    }\n",
              "\n",
              "    .colab-df-convert:hover {\n",
              "      background-color: #E2EBFA;\n",
              "      box-shadow: 0px 1px 2px rgba(60, 64, 67, 0.3), 0px 1px 3px 1px rgba(60, 64, 67, 0.15);\n",
              "      fill: #174EA6;\n",
              "    }\n",
              "\n",
              "    .colab-df-buttons div {\n",
              "      margin-bottom: 4px;\n",
              "    }\n",
              "\n",
              "    [theme=dark] .colab-df-convert {\n",
              "      background-color: #3B4455;\n",
              "      fill: #D2E3FC;\n",
              "    }\n",
              "\n",
              "    [theme=dark] .colab-df-convert:hover {\n",
              "      background-color: #434B5C;\n",
              "      box-shadow: 0px 1px 3px 1px rgba(0, 0, 0, 0.15);\n",
              "      filter: drop-shadow(0px 1px 2px rgba(0, 0, 0, 0.3));\n",
              "      fill: #FFFFFF;\n",
              "    }\n",
              "  </style>\n",
              "\n",
              "    <script>\n",
              "      const buttonEl =\n",
              "        document.querySelector('#df-97ea913f-6332-478c-8e8a-42437581d271 button.colab-df-convert');\n",
              "      buttonEl.style.display =\n",
              "        google.colab.kernel.accessAllowed ? 'block' : 'none';\n",
              "\n",
              "      async function convertToInteractive(key) {\n",
              "        const element = document.querySelector('#df-97ea913f-6332-478c-8e8a-42437581d271');\n",
              "        const dataTable =\n",
              "          await google.colab.kernel.invokeFunction('convertToInteractive',\n",
              "                                                    [key], {});\n",
              "        if (!dataTable) return;\n",
              "\n",
              "        const docLinkHtml = 'Like what you see? Visit the ' +\n",
              "          '<a target=\"_blank\" href=https://colab.research.google.com/notebooks/data_table.ipynb>data table notebook</a>'\n",
              "          + ' to learn more about interactive tables.';\n",
              "        element.innerHTML = '';\n",
              "        dataTable['output_type'] = 'display_data';\n",
              "        await google.colab.output.renderOutput(dataTable, element);\n",
              "        const docLink = document.createElement('div');\n",
              "        docLink.innerHTML = docLinkHtml;\n",
              "        element.appendChild(docLink);\n",
              "      }\n",
              "    </script>\n",
              "  </div>\n",
              "\n",
              "\n",
              "    <div id=\"df-d74d334d-d91c-4630-babd-81e43beeff5c\">\n",
              "      <button class=\"colab-df-quickchart\" onclick=\"quickchart('df-d74d334d-d91c-4630-babd-81e43beeff5c')\"\n",
              "                title=\"Suggest charts\"\n",
              "                style=\"display:none;\">\n",
              "\n",
              "<svg xmlns=\"http://www.w3.org/2000/svg\" height=\"24px\"viewBox=\"0 0 24 24\"\n",
              "     width=\"24px\">\n",
              "    <g>\n",
              "        <path d=\"M19 3H5c-1.1 0-2 .9-2 2v14c0 1.1.9 2 2 2h14c1.1 0 2-.9 2-2V5c0-1.1-.9-2-2-2zM9 17H7v-7h2v7zm4 0h-2V7h2v10zm4 0h-2v-4h2v4z\"/>\n",
              "    </g>\n",
              "</svg>\n",
              "      </button>\n",
              "\n",
              "<style>\n",
              "  .colab-df-quickchart {\n",
              "      --bg-color: #E8F0FE;\n",
              "      --fill-color: #1967D2;\n",
              "      --hover-bg-color: #E2EBFA;\n",
              "      --hover-fill-color: #174EA6;\n",
              "      --disabled-fill-color: #AAA;\n",
              "      --disabled-bg-color: #DDD;\n",
              "  }\n",
              "\n",
              "  [theme=dark] .colab-df-quickchart {\n",
              "      --bg-color: #3B4455;\n",
              "      --fill-color: #D2E3FC;\n",
              "      --hover-bg-color: #434B5C;\n",
              "      --hover-fill-color: #FFFFFF;\n",
              "      --disabled-bg-color: #3B4455;\n",
              "      --disabled-fill-color: #666;\n",
              "  }\n",
              "\n",
              "  .colab-df-quickchart {\n",
              "    background-color: var(--bg-color);\n",
              "    border: none;\n",
              "    border-radius: 50%;\n",
              "    cursor: pointer;\n",
              "    display: none;\n",
              "    fill: var(--fill-color);\n",
              "    height: 32px;\n",
              "    padding: 0;\n",
              "    width: 32px;\n",
              "  }\n",
              "\n",
              "  .colab-df-quickchart:hover {\n",
              "    background-color: var(--hover-bg-color);\n",
              "    box-shadow: 0 1px 2px rgba(60, 64, 67, 0.3), 0 1px 3px 1px rgba(60, 64, 67, 0.15);\n",
              "    fill: var(--button-hover-fill-color);\n",
              "  }\n",
              "\n",
              "  .colab-df-quickchart-complete:disabled,\n",
              "  .colab-df-quickchart-complete:disabled:hover {\n",
              "    background-color: var(--disabled-bg-color);\n",
              "    fill: var(--disabled-fill-color);\n",
              "    box-shadow: none;\n",
              "  }\n",
              "\n",
              "  .colab-df-spinner {\n",
              "    border: 2px solid var(--fill-color);\n",
              "    border-color: transparent;\n",
              "    border-bottom-color: var(--fill-color);\n",
              "    animation:\n",
              "      spin 1s steps(1) infinite;\n",
              "  }\n",
              "\n",
              "  @keyframes spin {\n",
              "    0% {\n",
              "      border-color: transparent;\n",
              "      border-bottom-color: var(--fill-color);\n",
              "      border-left-color: var(--fill-color);\n",
              "    }\n",
              "    20% {\n",
              "      border-color: transparent;\n",
              "      border-left-color: var(--fill-color);\n",
              "      border-top-color: var(--fill-color);\n",
              "    }\n",
              "    30% {\n",
              "      border-color: transparent;\n",
              "      border-left-color: var(--fill-color);\n",
              "      border-top-color: var(--fill-color);\n",
              "      border-right-color: var(--fill-color);\n",
              "    }\n",
              "    40% {\n",
              "      border-color: transparent;\n",
              "      border-right-color: var(--fill-color);\n",
              "      border-top-color: var(--fill-color);\n",
              "    }\n",
              "    60% {\n",
              "      border-color: transparent;\n",
              "      border-right-color: var(--fill-color);\n",
              "    }\n",
              "    80% {\n",
              "      border-color: transparent;\n",
              "      border-right-color: var(--fill-color);\n",
              "      border-bottom-color: var(--fill-color);\n",
              "    }\n",
              "    90% {\n",
              "      border-color: transparent;\n",
              "      border-bottom-color: var(--fill-color);\n",
              "    }\n",
              "  }\n",
              "</style>\n",
              "\n",
              "      <script>\n",
              "        async function quickchart(key) {\n",
              "          const quickchartButtonEl =\n",
              "            document.querySelector('#' + key + ' button');\n",
              "          quickchartButtonEl.disabled = true;  // To prevent multiple clicks.\n",
              "          quickchartButtonEl.classList.add('colab-df-spinner');\n",
              "          try {\n",
              "            const charts = await google.colab.kernel.invokeFunction(\n",
              "                'suggestCharts', [key], {});\n",
              "          } catch (error) {\n",
              "            console.error('Error during call to suggestCharts:', error);\n",
              "          }\n",
              "          quickchartButtonEl.classList.remove('colab-df-spinner');\n",
              "          quickchartButtonEl.classList.add('colab-df-quickchart-complete');\n",
              "        }\n",
              "        (() => {\n",
              "          let quickchartButtonEl =\n",
              "            document.querySelector('#df-d74d334d-d91c-4630-babd-81e43beeff5c button');\n",
              "          quickchartButtonEl.style.display =\n",
              "            google.colab.kernel.accessAllowed ? 'block' : 'none';\n",
              "        })();\n",
              "      </script>\n",
              "    </div>\n",
              "\n",
              "    </div>\n",
              "  </div>\n"
            ],
            "application/vnd.google.colaboratory.intrinsic+json": {
              "type": "dataframe",
              "summary": "{\n  \"name\": \"round(tabla_4,0)\",\n  \"rows\": 11,\n  \"fields\": [\n    {\n      \"column\": \"\\u00c1rea\",\n      \"properties\": {\n        \"dtype\": \"string\",\n        \"num_unique_values\": 11,\n        \"samples\": [\n          \"Derecho\",\n          \"Administraci\\u00f3n y Comercio\",\n          \"Tecnolog\\u00eda\"\n        ],\n        \"semantic_type\": \"\",\n        \"description\": \"\"\n      }\n    },\n    {\n      \"column\": \"Centros de Formaci\\u00f3n T\\u00e9cnica\",\n      \"properties\": {\n        \"dtype\": \"number\",\n        \"std\": 152085.78097595667,\n        \"min\": 608333.0,\n        \"max\": 1084375.0,\n        \"num_unique_values\": 10,\n        \"samples\": [\n          1084375.0,\n          870000.0,\n          850000.0\n        ],\n        \"semantic_type\": \"\",\n        \"description\": \"\"\n      }\n    },\n    {\n      \"column\": \"Insitutos Profesionales\",\n      \"properties\": {\n        \"dtype\": \"number\",\n        \"std\": 144203.8515047992,\n        \"min\": 673810.0,\n        \"max\": 1150000.0,\n        \"num_unique_values\": 11,\n        \"samples\": [\n          850000.0,\n          1038525.0,\n          1110241.0\n        ],\n        \"semantic_type\": \"\",\n        \"description\": \"\"\n      }\n    },\n    {\n      \"column\": \"Universidades\",\n      \"properties\": {\n        \"dtype\": \"number\",\n        \"std\": 311271.58608725073,\n        \"min\": 850000.0,\n        \"max\": 1854678.0,\n        \"num_unique_values\": 11,\n        \"samples\": [\n          1618000.0,\n          1430682.0,\n          1854678.0\n        ],\n        \"semantic_type\": \"\",\n        \"description\": \"\"\n      }\n    },\n    {\n      \"column\": \"Total\",\n      \"properties\": {\n        \"dtype\": \"number\",\n        \"std\": 246339.40141808044,\n        \"min\": 870000.0,\n        \"max\": 1575000.0,\n        \"num_unique_values\": 11,\n        \"samples\": [\n          1561111.0,\n          1221930.0,\n          1552448.0\n        ],\n        \"semantic_type\": \"\",\n        \"description\": \"\"\n      }\n    }\n  ]\n}"
            }
          },
          "metadata": {},
          "execution_count": 22
        }
      ]
    },
    {
      "cell_type": "markdown",
      "source": [
        "## Actividad 4"
      ],
      "metadata": {
        "id": "7iYYoumKEuNS"
      }
    },
    {
      "cell_type": "markdown",
      "source": [
        "La siguiente base de datos posee los registros de todas las calificaciones obtenidas por los alumnos del segundo semestre del 2019, jornada diurna en la asignatura de Álgebra.\n",
        "\n",
        "Para responder las siguientes preguntas, descarga la base de datos **<a href=\"https://drive.google.com/uc?export=download&id=1cD6GAWUzR2G8eHEEnfPHIuzKIZtHcSf7\n",
        "\">aquí</a>**."
      ],
      "metadata": {
        "id": "fR7z9FehEwr5"
      }
    },
    {
      "cell_type": "markdown",
      "source": [
        "1. ¿Cuál es la población en estudio?"
      ],
      "metadata": {
        "id": "_Hbt3C-gF6sj"
      }
    },
    {
      "cell_type": "markdown",
      "source": [
        "2. ¿Cuál es la muestra en estudio?"
      ],
      "metadata": {
        "id": "xoxT4IDXHBwY"
      }
    },
    {
      "cell_type": "markdown",
      "source": [
        "3.  Identifique y clasifique las variables involucradas en el estudio."
      ],
      "metadata": {
        "id": "2loaxPnTHOD-"
      }
    },
    {
      "cell_type": "markdown",
      "source": [
        "4. Calcule e interprete las medidas de tendencia central de las notas del examen."
      ],
      "metadata": {
        "id": "OuVEOxKBHwAd"
      }
    },
    {
      "cell_type": "markdown",
      "source": [
        "5. ¿Entre qué valores se encuentra el 60% de las notas más bajas en la prueba 1?"
      ],
      "metadata": {
        "id": "lBGfmlcSKHz6"
      }
    },
    {
      "cell_type": "markdown",
      "source": [
        "6.  La institución de educación creará cursos de reforzamiento para todos los estudiantes cuyas calificaciones en la Prueba 2, estén en el 25% más bajo. ¿Cuál es la nota más alta dentro de este grupo que va a reforzamiento?"
      ],
      "metadata": {
        "id": "2KLvEaBvLBoA"
      }
    },
    {
      "cell_type": "markdown",
      "source": [
        "7. ¿Cuál es la nota más baja entre el 30% de mejores notas del examen?"
      ],
      "metadata": {
        "id": "X0V0gspsLsZf"
      }
    },
    {
      "cell_type": "markdown",
      "source": [
        "8. Si se desea reevaluar al 10% más bajo en el examen, ¿cuál es rango de notas que se debe considerar?"
      ],
      "metadata": {
        "id": "CObFwfk1MINR"
      }
    },
    {
      "cell_type": "markdown",
      "source": [
        "9. Si la institución va a premiar al 5% de las mejores notas finales, ¿cuál es la nota más baja registrada por ese grupo?"
      ],
      "metadata": {
        "id": "K7yLMBBlNLls"
      }
    }
  ]
}